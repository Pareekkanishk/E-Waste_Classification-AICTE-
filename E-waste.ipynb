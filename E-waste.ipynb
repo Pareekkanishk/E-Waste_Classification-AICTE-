{
 "cells": [
  {
   "cell_type": "code",
   "execution_count": null,
   "id": "1b83b7d0",
   "metadata": {},
   "outputs": [],
   "source": [
    "import tensorflow as tf  \n",
    "from tensorflow.keras import layers, models, optimizers, callbacks  # Layers, model creation, optimizers, and training callbacks\n",
    "from tensorflow.keras.models import Sequential, load_model  \n",
    "from tensorflow.keras.applications import EfficientNetV2B0  \n",
    "from tensorflow.keras.applications.efficientnet import preprocess_input \n",
    "import numpy as np  \n",
    "import matplotlib.pyplot as plt  \n",
    "import seaborn as sns  \n",
    "from sklearn.metrics import confusion_matrix, classification_report\n",
    "import gradio as gr  \n",
    "from PIL import Image  "
   ]
  }
 ],
 "metadata": {
  "kernelspec": {
   "display_name": "venv",
   "language": "python",
   "name": "python3"
  },
  "language_info": {
   "codemirror_mode": {
    "name": "ipython",
    "version": 3
   },
   "file_extension": ".py",
   "mimetype": "text/x-python",
   "name": "python",
   "nbconvert_exporter": "python",
   "pygments_lexer": "ipython3",
   "version": "3.12.7"
  }
 },
 "nbformat": 4,
 "nbformat_minor": 5
}
